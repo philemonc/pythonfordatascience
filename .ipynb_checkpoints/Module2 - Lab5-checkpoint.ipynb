{
 "cells": [
  {
   "cell_type": "markdown",
   "metadata": {},
   "source": [
    "# DAT210x - Programming with Python for DS"
   ]
  },
  {
   "cell_type": "markdown",
   "metadata": {},
   "source": [
    "## Module2 - Lab5"
   ]
  },
  {
   "cell_type": "markdown",
   "metadata": {
    "collapsed": true
   },
   "source": [
    "Import and alias Pandas:"
   ]
  },
  {
   "cell_type": "code",
   "execution_count": 19,
   "metadata": {
    "collapsed": true
   },
   "outputs": [],
   "source": [
    "import pandas as pd"
   ]
  },
  {
   "cell_type": "markdown",
   "metadata": {},
   "source": [
    "As per usual, load up the specified dataset, setting appropriate header labels."
   ]
  },
  {
   "cell_type": "code",
   "execution_count": 22,
   "metadata": {},
   "outputs": [
    {
     "data": {
      "text/plain": [
       "education          object\n",
       "age                 int64\n",
       "capital-gain      float64\n",
       "race               object\n",
       "capital-loss        int64\n",
       "hours-per-week      int64\n",
       "sex                object\n",
       "classification     object\n",
       "dtype: object"
      ]
     },
     "execution_count": 22,
     "metadata": {},
     "output_type": "execute_result"
    }
   ],
   "source": [
    "df = pd.read_csv('Datasets/census.data', names=['education', 'age', 'capital-gain', 'race', 'capital-loss', 'hours-per-week', 'sex', 'classification'], na_values='?')\n",
    "df.head()\n",
    "df.dtypes"
   ]
  },
  {
   "cell_type": "markdown",
   "metadata": {},
   "source": [
    "Excellent.\n",
    "\n",
    "Now, use basic pandas commands to look through the dataset. Get a feel for it before proceeding!\n",
    "\n",
    "Do the data-types of each column reflect the values you see when you look through the data using a text editor / spread sheet program? If you see `object` where you expect to see `int32` or `float64`, that is a good indicator that there might be a string or missing value or erroneous value in the column."
   ]
  },
  {
   "cell_type": "code",
   "execution_count": 24,
   "metadata": {},
   "outputs": [
    {
     "data": {
      "text/plain": [
       "array(['<=50K', '>50K'], dtype=object)"
      ]
     },
     "execution_count": 24,
     "metadata": {},
     "output_type": "execute_result"
    }
   ],
   "source": [
    "#df['education'].unique()\n",
    "#df['age'].unique()\n",
    "#df['capital-gain'].unique()\n",
    "#df['race'].unique()\n",
    "#df['capital-loss'].unique()\n",
    "#df['hours-per-week'].unique()\n",
    "#df['sex'].unique()\n",
    "df['classification'].unique()"
   ]
  },
  {
   "cell_type": "markdown",
   "metadata": {},
   "source": [
    "Try use `your_data_frame['your_column'].unique()` or equally, `your_data_frame.your_column.unique()` to see the unique values of each column and identify the rogue values.\n",
    "\n",
    "If you find any value that should be properly encoded to NaNs, you can convert them either using the `na_values` parameter when loading the dataframe. Or alternatively, use one of the other methods discussed in the reading."
   ]
  },
  {
   "cell_type": "code",
   "execution_count": 23,
   "metadata": {},
   "outputs": [
    {
     "name": "stdout",
     "output_type": "stream",
     "text": [
      "       education  age  capital-gain                race  capital-loss  \\\n",
      "0              0   39        2174.0               White             0   \n",
      "1              0   50           NaN               White             0   \n",
      "2              1   38           NaN               White             0   \n",
      "3              2   53           NaN               Black             0   \n",
      "4              0   28           0.0               Black             0   \n",
      "5              3   37           0.0               White             0   \n",
      "6              4   49           0.0               Black             0   \n",
      "7              1   52           0.0               White             0   \n",
      "8              3   31       14084.0               White             0   \n",
      "9              0   42        5178.0               White             0   \n",
      "10             5   37           0.0               Black             0   \n",
      "11             0   30           0.0  Asian-Pac-Islander             0   \n",
      "12             0   23           0.0               White             0   \n",
      "13             6   34           0.0  Amer-Indian-Eskimo             0   \n",
      "14             1   25           0.0               White             0   \n",
      "15             1   32           0.0               White             0   \n",
      "16             2   38           0.0               White             0   \n",
      "17             3   43           0.0               White             0   \n",
      "18             7   40           0.0               White             0   \n",
      "19             1   54           0.0               Black             0   \n",
      "20             4   35           0.0               Black             0   \n",
      "21             2   43           0.0               White          2042   \n",
      "22             1   59           0.0               White             0   \n",
      "23             0   56           0.0               White             0   \n",
      "24             1   19           0.0               White             0   \n",
      "25             5   54           0.0  Asian-Pac-Islander             0   \n",
      "26             1   39           0.0               White             0   \n",
      "27             1   49           0.0               White             0   \n",
      "28             5   20           0.0               Black             0   \n",
      "29             0   45           0.0               White          1408   \n",
      "...          ...  ...           ...                 ...           ...   \n",
      "29506          1   30           0.0               White             0   \n",
      "29507          9   32           0.0               White             0   \n",
      "29508          5   22           0.0               White             0   \n",
      "29509          1   31           0.0               White             0   \n",
      "29510          1   29           0.0               White             0   \n",
      "29511          0   35           0.0               White             0   \n",
      "29512          0   30           0.0  Asian-Pac-Islander             0   \n",
      "29513          7   34           0.0               White             0   \n",
      "29514          0   54           0.0  Asian-Pac-Islander             0   \n",
      "29515          5   37           0.0               White             0   \n",
      "29516         12   22           0.0               Black             0   \n",
      "29517          0   34           0.0               White             0   \n",
      "29518          1   30           0.0               Black             0   \n",
      "29519          0   38       15020.0               Black             0   \n",
      "29520          7   71           0.0               White             0   \n",
      "29521          1   45           0.0               White             0   \n",
      "29522          1   41           0.0               Black             0   \n",
      "29523          1   72           0.0               White             0   \n",
      "29524          3   31           0.0               Other             0   \n",
      "29525          1   43           0.0               White             0   \n",
      "29526          5   43           0.0               White             0   \n",
      "29527          5   43           0.0               White             0   \n",
      "29528          9   32           0.0  Amer-Indian-Eskimo             0   \n",
      "29529          3   32           0.0  Asian-Pac-Islander             0   \n",
      "29530          3   53           0.0               White             0   \n",
      "29531          5   22           0.0               White             0   \n",
      "29532          1   40           0.0               White             0   \n",
      "29533          1   58           0.0               White             0   \n",
      "29534          1   22           0.0               White             0   \n",
      "29535          1   52       15024.0               White             0   \n",
      "\n",
      "       hours-per-week     sex classification  \n",
      "0                  40    Male          <=50K  \n",
      "1                  13    Male          <=50K  \n",
      "2                  40    Male          <=50K  \n",
      "3                  40    Male          <=50K  \n",
      "4                  40  Female          <=50K  \n",
      "5                  40  Female          <=50K  \n",
      "6                  16  Female          <=50K  \n",
      "7                  45    Male           >50K  \n",
      "8                  50  Female           >50K  \n",
      "9                  40    Male           >50K  \n",
      "10                 80    Male           >50K  \n",
      "11                 40    Male           >50K  \n",
      "12                 30  Female          <=50K  \n",
      "13                 45    Male          <=50K  \n",
      "14                 35    Male          <=50K  \n",
      "15                 40    Male          <=50K  \n",
      "16                 50    Male          <=50K  \n",
      "17                 45  Female           >50K  \n",
      "18                 60    Male           >50K  \n",
      "19                 20  Female          <=50K  \n",
      "20                 40    Male          <=50K  \n",
      "21                 40    Male          <=50K  \n",
      "22                 40  Female          <=50K  \n",
      "23                 40    Male           >50K  \n",
      "24                 40    Male          <=50K  \n",
      "25                 60    Male           >50K  \n",
      "26                 80    Male          <=50K  \n",
      "27                 40    Male          <=50K  \n",
      "28                 44    Male          <=50K  \n",
      "29                 40    Male          <=50K  \n",
      "...               ...     ...            ...  \n",
      "29506              55    Male          <=50K  \n",
      "29507              40    Male          <=50K  \n",
      "29508              40    Male          <=50K  \n",
      "29509              40  Female          <=50K  \n",
      "29510              35  Female          <=50K  \n",
      "29511              55  Female           >50K  \n",
      "29512              99  Female          <=50K  \n",
      "29513              60    Male           >50K  \n",
      "29514              50    Male           >50K  \n",
      "29515              39  Female          <=50K  \n",
      "29516              35    Male          <=50K  \n",
      "29517              55  Female           >50K  \n",
      "29518              46    Male          <=50K  \n",
      "29519              45  Female           >50K  \n",
      "29520              10    Male           >50K  \n",
      "29521              40  Female          <=50K  \n",
      "29522              32  Female          <=50K  \n",
      "29523              25    Male          <=50K  \n",
      "29524              30  Female          <=50K  \n",
      "29525              40    Male          <=50K  \n",
      "29526              40  Female          <=50K  \n",
      "29527              50    Male          <=50K  \n",
      "29528              40    Male          <=50K  \n",
      "29529              11    Male          <=50K  \n",
      "29530              40    Male           >50K  \n",
      "29531              40    Male          <=50K  \n",
      "29532              40    Male           >50K  \n",
      "29533              40  Female          <=50K  \n",
      "29534              20    Male          <=50K  \n",
      "29535              40  Female           >50K  \n",
      "\n",
      "[29536 rows x 8 columns]\n"
     ]
    }
   ],
   "source": [
    "df['education'] = df['education'].astype('category',ordered=True, categories=['Bachelors', 'HS-grad', '11th', 'Masters', '9th', 'Some-college',\n",
    "       '7th-8th', 'Doctorate', '5th-6th', '10th', '1st-4th', 'Preschool',\n",
    "       '12th']).cat.codes\n",
    "print(df)"
   ]
  },
  {
   "cell_type": "markdown",
   "metadata": {},
   "source": [
    "Look through your data and identify any potential categorical features. Ensure you properly encode any ordinal and nominal types using the methods discussed in the chapter.\n",
    "\n",
    "Be careful! Some features can be represented as either categorical or continuous (numerical). If you ever get confused, think to yourself what makes more sense generally---to represent such features with a continuous numeric type... or a series of categories?"
   ]
  },
  {
   "cell_type": "code",
   "execution_count": 25,
   "metadata": {
    "collapsed": true
   },
   "outputs": [],
   "source": [
    "df['classification'] = df['classification'].astype('category',ordered=True, categories=['<=50K', '>50K']).cat.codes"
   ]
  },
  {
   "cell_type": "markdown",
   "metadata": {},
   "source": [
    "Lastly, print out your dataframe!"
   ]
  },
  {
   "cell_type": "code",
   "execution_count": 26,
   "metadata": {},
   "outputs": [
    {
     "name": "stdout",
     "output_type": "stream",
     "text": [
      "       education  age  capital-gain                race  capital-loss  \\\n",
      "0              0   39        2174.0               White             0   \n",
      "1              0   50           NaN               White             0   \n",
      "2              1   38           NaN               White             0   \n",
      "3              2   53           NaN               Black             0   \n",
      "4              0   28           0.0               Black             0   \n",
      "5              3   37           0.0               White             0   \n",
      "6              4   49           0.0               Black             0   \n",
      "7              1   52           0.0               White             0   \n",
      "8              3   31       14084.0               White             0   \n",
      "9              0   42        5178.0               White             0   \n",
      "10             5   37           0.0               Black             0   \n",
      "11             0   30           0.0  Asian-Pac-Islander             0   \n",
      "12             0   23           0.0               White             0   \n",
      "13             6   34           0.0  Amer-Indian-Eskimo             0   \n",
      "14             1   25           0.0               White             0   \n",
      "15             1   32           0.0               White             0   \n",
      "16             2   38           0.0               White             0   \n",
      "17             3   43           0.0               White             0   \n",
      "18             7   40           0.0               White             0   \n",
      "19             1   54           0.0               Black             0   \n",
      "20             4   35           0.0               Black             0   \n",
      "21             2   43           0.0               White          2042   \n",
      "22             1   59           0.0               White             0   \n",
      "23             0   56           0.0               White             0   \n",
      "24             1   19           0.0               White             0   \n",
      "25             5   54           0.0  Asian-Pac-Islander             0   \n",
      "26             1   39           0.0               White             0   \n",
      "27             1   49           0.0               White             0   \n",
      "28             5   20           0.0               Black             0   \n",
      "29             0   45           0.0               White          1408   \n",
      "...          ...  ...           ...                 ...           ...   \n",
      "29506          1   30           0.0               White             0   \n",
      "29507          9   32           0.0               White             0   \n",
      "29508          5   22           0.0               White             0   \n",
      "29509          1   31           0.0               White             0   \n",
      "29510          1   29           0.0               White             0   \n",
      "29511          0   35           0.0               White             0   \n",
      "29512          0   30           0.0  Asian-Pac-Islander             0   \n",
      "29513          7   34           0.0               White             0   \n",
      "29514          0   54           0.0  Asian-Pac-Islander             0   \n",
      "29515          5   37           0.0               White             0   \n",
      "29516         12   22           0.0               Black             0   \n",
      "29517          0   34           0.0               White             0   \n",
      "29518          1   30           0.0               Black             0   \n",
      "29519          0   38       15020.0               Black             0   \n",
      "29520          7   71           0.0               White             0   \n",
      "29521          1   45           0.0               White             0   \n",
      "29522          1   41           0.0               Black             0   \n",
      "29523          1   72           0.0               White             0   \n",
      "29524          3   31           0.0               Other             0   \n",
      "29525          1   43           0.0               White             0   \n",
      "29526          5   43           0.0               White             0   \n",
      "29527          5   43           0.0               White             0   \n",
      "29528          9   32           0.0  Amer-Indian-Eskimo             0   \n",
      "29529          3   32           0.0  Asian-Pac-Islander             0   \n",
      "29530          3   53           0.0               White             0   \n",
      "29531          5   22           0.0               White             0   \n",
      "29532          1   40           0.0               White             0   \n",
      "29533          1   58           0.0               White             0   \n",
      "29534          1   22           0.0               White             0   \n",
      "29535          1   52       15024.0               White             0   \n",
      "\n",
      "       hours-per-week     sex  classification  \n",
      "0                  40    Male               0  \n",
      "1                  13    Male               0  \n",
      "2                  40    Male               0  \n",
      "3                  40    Male               0  \n",
      "4                  40  Female               0  \n",
      "5                  40  Female               0  \n",
      "6                  16  Female               0  \n",
      "7                  45    Male               1  \n",
      "8                  50  Female               1  \n",
      "9                  40    Male               1  \n",
      "10                 80    Male               1  \n",
      "11                 40    Male               1  \n",
      "12                 30  Female               0  \n",
      "13                 45    Male               0  \n",
      "14                 35    Male               0  \n",
      "15                 40    Male               0  \n",
      "16                 50    Male               0  \n",
      "17                 45  Female               1  \n",
      "18                 60    Male               1  \n",
      "19                 20  Female               0  \n",
      "20                 40    Male               0  \n",
      "21                 40    Male               0  \n",
      "22                 40  Female               0  \n",
      "23                 40    Male               1  \n",
      "24                 40    Male               0  \n",
      "25                 60    Male               1  \n",
      "26                 80    Male               0  \n",
      "27                 40    Male               0  \n",
      "28                 44    Male               0  \n",
      "29                 40    Male               0  \n",
      "...               ...     ...             ...  \n",
      "29506              55    Male               0  \n",
      "29507              40    Male               0  \n",
      "29508              40    Male               0  \n",
      "29509              40  Female               0  \n",
      "29510              35  Female               0  \n",
      "29511              55  Female               1  \n",
      "29512              99  Female               0  \n",
      "29513              60    Male               1  \n",
      "29514              50    Male               1  \n",
      "29515              39  Female               0  \n",
      "29516              35    Male               0  \n",
      "29517              55  Female               1  \n",
      "29518              46    Male               0  \n",
      "29519              45  Female               1  \n",
      "29520              10    Male               1  \n",
      "29521              40  Female               0  \n",
      "29522              32  Female               0  \n",
      "29523              25    Male               0  \n",
      "29524              30  Female               0  \n",
      "29525              40    Male               0  \n",
      "29526              40  Female               0  \n",
      "29527              50    Male               0  \n",
      "29528              40    Male               0  \n",
      "29529              11    Male               0  \n",
      "29530              40    Male               1  \n",
      "29531              40    Male               0  \n",
      "29532              40    Male               1  \n",
      "29533              40  Female               0  \n",
      "29534              20    Male               0  \n",
      "29535              40  Female               1  \n",
      "\n",
      "[29536 rows x 8 columns]\n"
     ]
    }
   ],
   "source": [
    "print(df)"
   ]
  }
 ],
 "metadata": {
  "anaconda-cloud": {},
  "kernelspec": {
   "display_name": "Python 3",
   "language": "python",
   "name": "python3"
  },
  "language_info": {
   "codemirror_mode": {
    "name": "ipython",
    "version": 3
   },
   "file_extension": ".py",
   "mimetype": "text/x-python",
   "name": "python",
   "nbconvert_exporter": "python",
   "pygments_lexer": "ipython3",
   "version": "3.6.1"
  },
  "toc": {
   "colors": {
    "hover_highlight": "#DAA520",
    "running_highlight": "#FF0000",
    "selected_highlight": "#FFD700"
   },
   "moveMenuLeft": true,
   "nav_menu": {
    "height": "58px",
    "width": "251px"
   },
   "navigate_menu": true,
   "number_sections": true,
   "sideBar": true,
   "threshold": 4,
   "toc_cell": false,
   "toc_section_display": "block",
   "toc_window_display": false,
   "widenNotebook": false
  }
 },
 "nbformat": 4,
 "nbformat_minor": 2
}
