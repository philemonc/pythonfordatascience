{
 "cells": [
  {
   "cell_type": "markdown",
   "metadata": {},
   "source": [
    "# DAT210x - Programming with Python for DS"
   ]
  },
  {
   "cell_type": "markdown",
   "metadata": {},
   "source": [
    "## Module2 - Lab3"
   ]
  },
  {
   "cell_type": "code",
   "execution_count": 1,
   "metadata": {
    "collapsed": true
   },
   "outputs": [],
   "source": [
    "# Import and alias Pandas\n",
    "import pandas as pd"
   ]
  },
  {
   "cell_type": "markdown",
   "metadata": {},
   "source": [
    "Often, you will want to load a dataset that is missing explicit header labels. You won't know if your data lacks headers or not unless you load it up and examine the headers to see if they make sense. Pandas by default reads in the first row of data as the header. If that isn't the case for your specific data set, you will lose your first data row. Be careful!\n",
    "\n",
    "Load up the `Servo.data` dataset. Examine the headers, and adjust them as necessary, if need be."
   ]
  },
  {
   "cell_type": "code",
   "execution_count": 3,
   "metadata": {},
   "outputs": [
    {
     "name": "stdout",
     "output_type": "stream",
     "text": [
      "  motor screw  pgain  vgain     class\n",
      "0     E     E      5      4  0.281251\n",
      "1     B     D      6      5  0.506252\n",
      "2     D     D      4      3  0.356251\n",
      "3     B     A      3      2  5.500033\n",
      "4     D     B      6      5  0.356251\n"
     ]
    }
   ],
   "source": [
    "df = pd.read_csv('Datasets/Servo.data', names = ['motor', 'screw', 'pgain', 'vgain', 'class'])\n",
    "print(df.head(5))"
   ]
  },
  {
   "cell_type": "markdown",
   "metadata": {},
   "source": [
    "Let's try experimenting with some slicing. Create a slice that contains all entries that have a vgain equal to 5. Then print the length of (# of samples in) that slice:"
   ]
  },
  {
   "cell_type": "code",
   "execution_count": 7,
   "metadata": {},
   "outputs": [
    {
     "name": "stdout",
     "output_type": "stream",
     "text": [
      "    motor screw  pgain  vgain     class\n",
      "1       B     D      6      5  0.506252\n",
      "4       D     B      6      5  0.356251\n",
      "8       C     A      6      5  0.768754\n",
      "10      B     E      6      5  0.468752\n",
      "22      B     C      6      5  0.468752\n",
      "24      A     B      6      5  0.581253\n",
      "25      E     C      6      5  0.393752\n",
      "34      C     C      6      5  0.506252\n",
      "38      C     B      6      5  0.543753\n",
      "50      D     A      6      5  0.431252\n",
      "70      B     A      6      5  0.806255\n",
      "73      A     E      6      5  0.506252\n",
      "81      A     C      6      5  0.506252\n",
      "84      E     A      6      5  0.581253\n",
      "95      A     D      6      5  0.506252\n",
      "108     E     B      6      5  0.431252\n",
      "112     C     D      6      5  0.468752\n",
      "117     E     D      6      5  0.318751\n",
      "132     E     E      6      5  0.281251\n",
      "135     B     B      6      5  0.543753\n",
      "161     C     E      6      5  0.468752\n",
      "166     A     A      6      5  0.806255\n",
      "Length of first slice:  22\n"
     ]
    }
   ],
   "source": [
    "firstslice = df.loc[(df.vgain == 5)]\n",
    "print(firstslice)\n",
    "print(\"Length of first slice: \", len(firstslice))"
   ]
  },
  {
   "cell_type": "markdown",
   "metadata": {},
   "source": [
    "Create a slice that contains all entries having a motor equal to E and screw equal to E. Then print the length of (# of samples in) that slice:"
   ]
  },
  {
   "cell_type": "code",
   "execution_count": 10,
   "metadata": {},
   "outputs": [
    {
     "name": "stdout",
     "output_type": "stream",
     "text": [
      "Length of second slice:  6\n"
     ]
    }
   ],
   "source": [
    "secslice = df.loc[(df.motor == 'E') & (df.screw == 'E')]\n",
    "print(\"Length of second slice: \",len(secslice))"
   ]
  },
  {
   "cell_type": "markdown",
   "metadata": {},
   "source": [
    "Create a slice that contains all entries having a pgain equal to 4. Use one of the various methods of finding the mean vgain value for the samples in that slice. Once you've found it, print it:"
   ]
  },
  {
   "cell_type": "code",
   "execution_count": 13,
   "metadata": {},
   "outputs": [
    {
     "name": "stdout",
     "output_type": "stream",
     "text": [
      "2.0606060606060606\n"
     ]
    }
   ],
   "source": [
    "import numpy as np \n",
    "thirdslice = df.loc[df.pgain == 4]\n",
    "print(np.mean(thirdslice['vgain']))"
   ]
  },
  {
   "cell_type": "markdown",
   "metadata": {
    "collapsed": true
   },
   "source": [
    "Here's a bonus activity for you. See what happens when you display the `.dtypes` property of your dataframe!"
   ]
  },
  {
   "cell_type": "code",
   "execution_count": 15,
   "metadata": {},
   "outputs": [
    {
     "name": "stdout",
     "output_type": "stream",
     "text": [
      "motor     object\n",
      "screw     object\n",
      "pgain      int64\n",
      "vgain      int64\n",
      "class    float64\n",
      "dtype: object\n"
     ]
    }
   ],
   "source": [
    "print(df.dtypes)"
   ]
  }
 ],
 "metadata": {
  "anaconda-cloud": {},
  "kernelspec": {
   "display_name": "Python 3",
   "language": "python",
   "name": "python3"
  },
  "language_info": {
   "codemirror_mode": {
    "name": "ipython",
    "version": 3
   },
   "file_extension": ".py",
   "mimetype": "text/x-python",
   "name": "python",
   "nbconvert_exporter": "python",
   "pygments_lexer": "ipython3",
   "version": "3.6.1"
  },
  "toc": {
   "colors": {
    "hover_highlight": "#DAA520",
    "running_highlight": "#FF0000",
    "selected_highlight": "#FFD700"
   },
   "moveMenuLeft": true,
   "nav_menu": {
    "height": "58px",
    "width": "251px"
   },
   "navigate_menu": true,
   "number_sections": true,
   "sideBar": true,
   "threshold": 4,
   "toc_cell": false,
   "toc_section_display": "block",
   "toc_window_display": false,
   "widenNotebook": false
  }
 },
 "nbformat": 4,
 "nbformat_minor": 2
}
